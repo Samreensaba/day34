{
 "cells": [
  {
   "cell_type": "code",
   "execution_count": null,
   "id": "d7e91580-cf60-4614-b209-45be5e15ea72",
   "metadata": {},
   "outputs": [],
   "source": [
    "import os, time\n",
    "listOfEmail = []\n",
    "\n",
    "def prettyPrint():\n",
    "    os.system(\"clear\") \n",
    "    print(\"listofEmail\") \n",
    "    print()\n",
    "    for index in range(len(listOfEmail)): \n",
    "      print(f\"{index}: {listOfEmail[index]}\") \n",
    "      \n",
    "    time.sleep(1)\n",
    "\n",
    "def spam(max):\n",
    "    os.system(\"clear\")\n",
    "    print(\"SPAMMING\")\n",
    "    print()\n",
    "    for i in range(0, max):\n",
    "      \n",
    "      print(f\"Dear {listOfEmail[i]}\")\n",
    "      print()\n",
    "      print(\"It has come to our attention that you're missing out on the amazing Replit 100 days of code. We insist you do it right away. If you don't we will pass on your email address to every spammer we've ever encountered and also sign you up to the My Little Pony newsletter, because that's neat. We might just do that anyway.\")\n",
    "      print()\n",
    "      print(\"Love and hugs,\")\n",
    "      print(\"Ian Spammington III\")\n",
    "      time.sleep(3)\n",
    "      os.system(\"clear\")\n",
    "      \n",
    "\n",
    "while True:\n",
    "    print(\"SPAMMER Inc.\")\n",
    "    menu = input(\"1. Add email\\n2: Remove email\\n3. Show emails\\n4. Get SPAMMING\\n> \")\n",
    "    if menu == \"1\":\n",
    "      email = input(\"Email > \")\n",
    "      listOfEmail.append(email)\n",
    "    elif menu ==\"2\":\n",
    "      email = input (\"Email > \")\n",
    "      if email in listOfEmail:\n",
    "        listOfEmail.remove(email)\n",
    "    elif menu == \"3\":\n",
    "      prettyPrint()\n",
    "    elif menu == \"4\":\n",
    "      spam(10)\n",
    "    time.sleep(1)\n",
    "    os.system(\"clear\")"
   ]
  }
 ],
 "metadata": {
  "kernelspec": {
   "display_name": "Python 3 (ipykernel)",
   "language": "python",
   "name": "python3"
  },
  "language_info": {
   "codemirror_mode": {
    "name": "ipython",
    "version": 3
   },
   "file_extension": ".py",
   "mimetype": "text/x-python",
   "name": "python",
   "nbconvert_exporter": "python",
   "pygments_lexer": "ipython3",
   "version": "3.12.4"
  }
 },
 "nbformat": 4,
 "nbformat_minor": 5
}
